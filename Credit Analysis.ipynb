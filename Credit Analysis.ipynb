{
  "nbformat": 4,
  "nbformat_minor": 0,
  "metadata": {
    "colab": {
      "provenance": [],
      "gpuType": "T4"
    },
    "kernelspec": {
      "name": "python3",
      "display_name": "Python 3"
    },
    "language_info": {
      "name": "python"
    },
    "accelerator": "GPU"
  },
  "cells": [
    {
      "cell_type": "code",
      "source": [
        "import pandas as pd\n",
        "import matplotlib.pyplot as plt\n",
        "import seaborn as sns\n",
        "\n",
        "# LOAD DATA\n",
        "df = pd.read_csv('/content/drive/MyDrive/Projects/CREDIT APPROVAL/clean_dataset.csv')\n",
        "\n",
        "# ADD PRIMARY KEY\n",
        "df.insert(0, 'ID', range(1, len(df) + 1))\n",
        "\n",
        "\n",
        "# QUICK CLEANING: Fill numeric with mean, object with mode\n",
        "for col in df.columns:\n",
        "    if df[col].dtype == 'object':\n",
        "        df[col].fillna(df[col].mode()[0], inplace=True)\n",
        "    else:\n",
        "        df[col].fillna(df[col].mean(), inplace=True)\n",
        "\n",
        "df.drop_duplicates(inplace=True)\n",
        "\n",
        "# BASIC AGGREGATION / CENTRAL TENDENCY\n",
        "agg_stats = df.describe(include='all')\n",
        "print(agg_stats)\n"
      ],
      "metadata": {
        "colab": {
          "base_uri": "https://localhost:8080/"
        },
        "id": "kimV7TpYUh3m",
        "outputId": "fb25c687-c17e-4f39-de33-b602d1370e24"
      },
      "execution_count": null,
      "outputs": [
        {
          "output_type": "stream",
          "name": "stdout",
          "text": [
            "                ID      Gender         Age        Debt     Married  \\\n",
            "count   690.000000  690.000000  690.000000  690.000000  690.000000   \n",
            "unique         NaN         NaN         NaN         NaN         NaN   \n",
            "top            NaN         NaN         NaN         NaN         NaN   \n",
            "freq           NaN         NaN         NaN         NaN         NaN   \n",
            "mean    345.500000    0.695652   31.514116    4.758725    0.760870   \n",
            "std     199.330128    0.460464   11.860245    4.978163    0.426862   \n",
            "min       1.000000    0.000000   13.750000    0.000000    0.000000   \n",
            "25%     173.250000    0.000000   22.670000    1.000000    1.000000   \n",
            "50%     345.500000    1.000000   28.460000    2.750000    1.000000   \n",
            "75%     517.750000    1.000000   37.707500    7.207500    1.000000   \n",
            "max     690.000000    1.000000   80.250000   28.000000    1.000000   \n",
            "\n",
            "        BankCustomer Industry Ethnicity  YearsEmployed  PriorDefault  \\\n",
            "count     690.000000      690       690     690.000000    690.000000   \n",
            "unique           NaN       14         5            NaN           NaN   \n",
            "top              NaN   Energy     White            NaN           NaN   \n",
            "freq             NaN      146       408            NaN           NaN   \n",
            "mean        0.763768      NaN       NaN       2.223406      0.523188   \n",
            "std         0.425074      NaN       NaN       3.346513      0.499824   \n",
            "min         0.000000      NaN       NaN       0.000000      0.000000   \n",
            "25%         1.000000      NaN       NaN       0.165000      0.000000   \n",
            "50%         1.000000      NaN       NaN       1.000000      1.000000   \n",
            "75%         1.000000      NaN       NaN       2.625000      1.000000   \n",
            "max         1.000000      NaN       NaN      28.500000      1.000000   \n",
            "\n",
            "          Employed  CreditScore  DriversLicense  Citizen      ZipCode  \\\n",
            "count   690.000000    690.00000      690.000000      690   690.000000   \n",
            "unique         NaN          NaN             NaN        3          NaN   \n",
            "top            NaN          NaN             NaN  ByBirth          NaN   \n",
            "freq           NaN          NaN             NaN      625          NaN   \n",
            "mean      0.427536      2.40000        0.457971      NaN   180.547826   \n",
            "std       0.495080      4.86294        0.498592      NaN   173.970323   \n",
            "min       0.000000      0.00000        0.000000      NaN     0.000000   \n",
            "25%       0.000000      0.00000        0.000000      NaN    60.000000   \n",
            "50%       0.000000      0.00000        0.000000      NaN   160.000000   \n",
            "75%       1.000000      3.00000        1.000000      NaN   272.000000   \n",
            "max       1.000000     67.00000        1.000000      NaN  2000.000000   \n",
            "\n",
            "               Income    Approved  \n",
            "count      690.000000  690.000000  \n",
            "unique            NaN         NaN  \n",
            "top               NaN         NaN  \n",
            "freq              NaN         NaN  \n",
            "mean      1017.385507    0.444928  \n",
            "std       5210.102598    0.497318  \n",
            "min          0.000000    0.000000  \n",
            "25%          0.000000    0.000000  \n",
            "50%          5.000000    0.000000  \n",
            "75%        395.500000    1.000000  \n",
            "max     100000.000000    1.000000  \n"
          ]
        },
        {
          "output_type": "stream",
          "name": "stderr",
          "text": [
            "/tmp/ipython-input-3195559419.py:17: FutureWarning: A value is trying to be set on a copy of a DataFrame or Series through chained assignment using an inplace method.\n",
            "The behavior will change in pandas 3.0. This inplace method will never work because the intermediate object on which we are setting values always behaves as a copy.\n",
            "\n",
            "For example, when doing 'df[col].method(value, inplace=True)', try using 'df.method({col: value}, inplace=True)' or df[col] = df[col].method(value) instead, to perform the operation inplace on the original object.\n",
            "\n",
            "\n",
            "  df[col].fillna(df[col].mean(), inplace=True)\n",
            "/tmp/ipython-input-3195559419.py:15: FutureWarning: A value is trying to be set on a copy of a DataFrame or Series through chained assignment using an inplace method.\n",
            "The behavior will change in pandas 3.0. This inplace method will never work because the intermediate object on which we are setting values always behaves as a copy.\n",
            "\n",
            "For example, when doing 'df[col].method(value, inplace=True)', try using 'df.method({col: value}, inplace=True)' or df[col] = df[col].method(value) instead, to perform the operation inplace on the original object.\n",
            "\n",
            "\n",
            "  df[col].fillna(df[col].mode()[0], inplace=True)\n"
          ]
        }
      ]
    },
    {
      "cell_type": "code",
      "source": [
        "df.head()"
      ],
      "metadata": {
        "colab": {
          "base_uri": "https://localhost:8080/",
          "height": 226
        },
        "id": "wbSQ-Ch0wES9",
        "outputId": "55635f76-693c-4744-ef84-dfd5b4dcc662"
      },
      "execution_count": null,
      "outputs": [
        {
          "output_type": "execute_result",
          "data": {
            "text/plain": [
              "   ID  Gender    Age   Debt  Married  BankCustomer     Industry Ethnicity  \\\n",
              "0   1       1  30.83  0.000        1             1  Industrials     White   \n",
              "1   2       0  58.67  4.460        1             1    Materials     Black   \n",
              "2   3       0  24.50  0.500        1             1    Materials     Black   \n",
              "3   4       1  27.83  1.540        1             1  Industrials     White   \n",
              "4   5       1  20.17  5.625        1             1  Industrials     White   \n",
              "\n",
              "   YearsEmployed  PriorDefault  Employed  CreditScore  DriversLicense  \\\n",
              "0           1.25             1         1            1               0   \n",
              "1           3.04             1         1            6               0   \n",
              "2           1.50             1         0            0               0   \n",
              "3           3.75             1         1            5               1   \n",
              "4           1.71             1         0            0               0   \n",
              "\n",
              "        Citizen  ZipCode  Income  Approved  \n",
              "0       ByBirth      202       0         1  \n",
              "1       ByBirth       43     560         1  \n",
              "2       ByBirth      280     824         1  \n",
              "3       ByBirth      100       3         1  \n",
              "4  ByOtherMeans      120       0         1  "
            ],
            "text/html": [
              "\n",
              "  <div id=\"df-e3e3e924-b1c3-4c3e-ac90-944d7320b215\" class=\"colab-df-container\">\n",
              "    <div>\n",
              "<style scoped>\n",
              "    .dataframe tbody tr th:only-of-type {\n",
              "        vertical-align: middle;\n",
              "    }\n",
              "\n",
              "    .dataframe tbody tr th {\n",
              "        vertical-align: top;\n",
              "    }\n",
              "\n",
              "    .dataframe thead th {\n",
              "        text-align: right;\n",
              "    }\n",
              "</style>\n",
              "<table border=\"1\" class=\"dataframe\">\n",
              "  <thead>\n",
              "    <tr style=\"text-align: right;\">\n",
              "      <th></th>\n",
              "      <th>ID</th>\n",
              "      <th>Gender</th>\n",
              "      <th>Age</th>\n",
              "      <th>Debt</th>\n",
              "      <th>Married</th>\n",
              "      <th>BankCustomer</th>\n",
              "      <th>Industry</th>\n",
              "      <th>Ethnicity</th>\n",
              "      <th>YearsEmployed</th>\n",
              "      <th>PriorDefault</th>\n",
              "      <th>Employed</th>\n",
              "      <th>CreditScore</th>\n",
              "      <th>DriversLicense</th>\n",
              "      <th>Citizen</th>\n",
              "      <th>ZipCode</th>\n",
              "      <th>Income</th>\n",
              "      <th>Approved</th>\n",
              "    </tr>\n",
              "  </thead>\n",
              "  <tbody>\n",
              "    <tr>\n",
              "      <th>0</th>\n",
              "      <td>1</td>\n",
              "      <td>1</td>\n",
              "      <td>30.83</td>\n",
              "      <td>0.000</td>\n",
              "      <td>1</td>\n",
              "      <td>1</td>\n",
              "      <td>Industrials</td>\n",
              "      <td>White</td>\n",
              "      <td>1.25</td>\n",
              "      <td>1</td>\n",
              "      <td>1</td>\n",
              "      <td>1</td>\n",
              "      <td>0</td>\n",
              "      <td>ByBirth</td>\n",
              "      <td>202</td>\n",
              "      <td>0</td>\n",
              "      <td>1</td>\n",
              "    </tr>\n",
              "    <tr>\n",
              "      <th>1</th>\n",
              "      <td>2</td>\n",
              "      <td>0</td>\n",
              "      <td>58.67</td>\n",
              "      <td>4.460</td>\n",
              "      <td>1</td>\n",
              "      <td>1</td>\n",
              "      <td>Materials</td>\n",
              "      <td>Black</td>\n",
              "      <td>3.04</td>\n",
              "      <td>1</td>\n",
              "      <td>1</td>\n",
              "      <td>6</td>\n",
              "      <td>0</td>\n",
              "      <td>ByBirth</td>\n",
              "      <td>43</td>\n",
              "      <td>560</td>\n",
              "      <td>1</td>\n",
              "    </tr>\n",
              "    <tr>\n",
              "      <th>2</th>\n",
              "      <td>3</td>\n",
              "      <td>0</td>\n",
              "      <td>24.50</td>\n",
              "      <td>0.500</td>\n",
              "      <td>1</td>\n",
              "      <td>1</td>\n",
              "      <td>Materials</td>\n",
              "      <td>Black</td>\n",
              "      <td>1.50</td>\n",
              "      <td>1</td>\n",
              "      <td>0</td>\n",
              "      <td>0</td>\n",
              "      <td>0</td>\n",
              "      <td>ByBirth</td>\n",
              "      <td>280</td>\n",
              "      <td>824</td>\n",
              "      <td>1</td>\n",
              "    </tr>\n",
              "    <tr>\n",
              "      <th>3</th>\n",
              "      <td>4</td>\n",
              "      <td>1</td>\n",
              "      <td>27.83</td>\n",
              "      <td>1.540</td>\n",
              "      <td>1</td>\n",
              "      <td>1</td>\n",
              "      <td>Industrials</td>\n",
              "      <td>White</td>\n",
              "      <td>3.75</td>\n",
              "      <td>1</td>\n",
              "      <td>1</td>\n",
              "      <td>5</td>\n",
              "      <td>1</td>\n",
              "      <td>ByBirth</td>\n",
              "      <td>100</td>\n",
              "      <td>3</td>\n",
              "      <td>1</td>\n",
              "    </tr>\n",
              "    <tr>\n",
              "      <th>4</th>\n",
              "      <td>5</td>\n",
              "      <td>1</td>\n",
              "      <td>20.17</td>\n",
              "      <td>5.625</td>\n",
              "      <td>1</td>\n",
              "      <td>1</td>\n",
              "      <td>Industrials</td>\n",
              "      <td>White</td>\n",
              "      <td>1.71</td>\n",
              "      <td>1</td>\n",
              "      <td>0</td>\n",
              "      <td>0</td>\n",
              "      <td>0</td>\n",
              "      <td>ByOtherMeans</td>\n",
              "      <td>120</td>\n",
              "      <td>0</td>\n",
              "      <td>1</td>\n",
              "    </tr>\n",
              "  </tbody>\n",
              "</table>\n",
              "</div>\n",
              "    <div class=\"colab-df-buttons\">\n",
              "\n",
              "  <div class=\"colab-df-container\">\n",
              "    <button class=\"colab-df-convert\" onclick=\"convertToInteractive('df-e3e3e924-b1c3-4c3e-ac90-944d7320b215')\"\n",
              "            title=\"Convert this dataframe to an interactive table.\"\n",
              "            style=\"display:none;\">\n",
              "\n",
              "  <svg xmlns=\"http://www.w3.org/2000/svg\" height=\"24px\" viewBox=\"0 -960 960 960\">\n",
              "    <path d=\"M120-120v-720h720v720H120Zm60-500h600v-160H180v160Zm220 220h160v-160H400v160Zm0 220h160v-160H400v160ZM180-400h160v-160H180v160Zm440 0h160v-160H620v160ZM180-180h160v-160H180v160Zm440 0h160v-160H620v160Z\"/>\n",
              "  </svg>\n",
              "    </button>\n",
              "\n",
              "  <style>\n",
              "    .colab-df-container {\n",
              "      display:flex;\n",
              "      gap: 12px;\n",
              "    }\n",
              "\n",
              "    .colab-df-convert {\n",
              "      background-color: #E8F0FE;\n",
              "      border: none;\n",
              "      border-radius: 50%;\n",
              "      cursor: pointer;\n",
              "      display: none;\n",
              "      fill: #1967D2;\n",
              "      height: 32px;\n",
              "      padding: 0 0 0 0;\n",
              "      width: 32px;\n",
              "    }\n",
              "\n",
              "    .colab-df-convert:hover {\n",
              "      background-color: #E2EBFA;\n",
              "      box-shadow: 0px 1px 2px rgba(60, 64, 67, 0.3), 0px 1px 3px 1px rgba(60, 64, 67, 0.15);\n",
              "      fill: #174EA6;\n",
              "    }\n",
              "\n",
              "    .colab-df-buttons div {\n",
              "      margin-bottom: 4px;\n",
              "    }\n",
              "\n",
              "    [theme=dark] .colab-df-convert {\n",
              "      background-color: #3B4455;\n",
              "      fill: #D2E3FC;\n",
              "    }\n",
              "\n",
              "    [theme=dark] .colab-df-convert:hover {\n",
              "      background-color: #434B5C;\n",
              "      box-shadow: 0px 1px 3px 1px rgba(0, 0, 0, 0.15);\n",
              "      filter: drop-shadow(0px 1px 2px rgba(0, 0, 0, 0.3));\n",
              "      fill: #FFFFFF;\n",
              "    }\n",
              "  </style>\n",
              "\n",
              "    <script>\n",
              "      const buttonEl =\n",
              "        document.querySelector('#df-e3e3e924-b1c3-4c3e-ac90-944d7320b215 button.colab-df-convert');\n",
              "      buttonEl.style.display =\n",
              "        google.colab.kernel.accessAllowed ? 'block' : 'none';\n",
              "\n",
              "      async function convertToInteractive(key) {\n",
              "        const element = document.querySelector('#df-e3e3e924-b1c3-4c3e-ac90-944d7320b215');\n",
              "        const dataTable =\n",
              "          await google.colab.kernel.invokeFunction('convertToInteractive',\n",
              "                                                    [key], {});\n",
              "        if (!dataTable) return;\n",
              "\n",
              "        const docLinkHtml = 'Like what you see? Visit the ' +\n",
              "          '<a target=\"_blank\" href=https://colab.research.google.com/notebooks/data_table.ipynb>data table notebook</a>'\n",
              "          + ' to learn more about interactive tables.';\n",
              "        element.innerHTML = '';\n",
              "        dataTable['output_type'] = 'display_data';\n",
              "        await google.colab.output.renderOutput(dataTable, element);\n",
              "        const docLink = document.createElement('div');\n",
              "        docLink.innerHTML = docLinkHtml;\n",
              "        element.appendChild(docLink);\n",
              "      }\n",
              "    </script>\n",
              "  </div>\n",
              "\n",
              "\n",
              "    <div id=\"df-6e2da91c-7406-45a2-9690-40497f37b971\">\n",
              "      <button class=\"colab-df-quickchart\" onclick=\"quickchart('df-6e2da91c-7406-45a2-9690-40497f37b971')\"\n",
              "                title=\"Suggest charts\"\n",
              "                style=\"display:none;\">\n",
              "\n",
              "<svg xmlns=\"http://www.w3.org/2000/svg\" height=\"24px\"viewBox=\"0 0 24 24\"\n",
              "     width=\"24px\">\n",
              "    <g>\n",
              "        <path d=\"M19 3H5c-1.1 0-2 .9-2 2v14c0 1.1.9 2 2 2h14c1.1 0 2-.9 2-2V5c0-1.1-.9-2-2-2zM9 17H7v-7h2v7zm4 0h-2V7h2v10zm4 0h-2v-4h2v4z\"/>\n",
              "    </g>\n",
              "</svg>\n",
              "      </button>\n",
              "\n",
              "<style>\n",
              "  .colab-df-quickchart {\n",
              "      --bg-color: #E8F0FE;\n",
              "      --fill-color: #1967D2;\n",
              "      --hover-bg-color: #E2EBFA;\n",
              "      --hover-fill-color: #174EA6;\n",
              "      --disabled-fill-color: #AAA;\n",
              "      --disabled-bg-color: #DDD;\n",
              "  }\n",
              "\n",
              "  [theme=dark] .colab-df-quickchart {\n",
              "      --bg-color: #3B4455;\n",
              "      --fill-color: #D2E3FC;\n",
              "      --hover-bg-color: #434B5C;\n",
              "      --hover-fill-color: #FFFFFF;\n",
              "      --disabled-bg-color: #3B4455;\n",
              "      --disabled-fill-color: #666;\n",
              "  }\n",
              "\n",
              "  .colab-df-quickchart {\n",
              "    background-color: var(--bg-color);\n",
              "    border: none;\n",
              "    border-radius: 50%;\n",
              "    cursor: pointer;\n",
              "    display: none;\n",
              "    fill: var(--fill-color);\n",
              "    height: 32px;\n",
              "    padding: 0;\n",
              "    width: 32px;\n",
              "  }\n",
              "\n",
              "  .colab-df-quickchart:hover {\n",
              "    background-color: var(--hover-bg-color);\n",
              "    box-shadow: 0 1px 2px rgba(60, 64, 67, 0.3), 0 1px 3px 1px rgba(60, 64, 67, 0.15);\n",
              "    fill: var(--button-hover-fill-color);\n",
              "  }\n",
              "\n",
              "  .colab-df-quickchart-complete:disabled,\n",
              "  .colab-df-quickchart-complete:disabled:hover {\n",
              "    background-color: var(--disabled-bg-color);\n",
              "    fill: var(--disabled-fill-color);\n",
              "    box-shadow: none;\n",
              "  }\n",
              "\n",
              "  .colab-df-spinner {\n",
              "    border: 2px solid var(--fill-color);\n",
              "    border-color: transparent;\n",
              "    border-bottom-color: var(--fill-color);\n",
              "    animation:\n",
              "      spin 1s steps(1) infinite;\n",
              "  }\n",
              "\n",
              "  @keyframes spin {\n",
              "    0% {\n",
              "      border-color: transparent;\n",
              "      border-bottom-color: var(--fill-color);\n",
              "      border-left-color: var(--fill-color);\n",
              "    }\n",
              "    20% {\n",
              "      border-color: transparent;\n",
              "      border-left-color: var(--fill-color);\n",
              "      border-top-color: var(--fill-color);\n",
              "    }\n",
              "    30% {\n",
              "      border-color: transparent;\n",
              "      border-left-color: var(--fill-color);\n",
              "      border-top-color: var(--fill-color);\n",
              "      border-right-color: var(--fill-color);\n",
              "    }\n",
              "    40% {\n",
              "      border-color: transparent;\n",
              "      border-right-color: var(--fill-color);\n",
              "      border-top-color: var(--fill-color);\n",
              "    }\n",
              "    60% {\n",
              "      border-color: transparent;\n",
              "      border-right-color: var(--fill-color);\n",
              "    }\n",
              "    80% {\n",
              "      border-color: transparent;\n",
              "      border-right-color: var(--fill-color);\n",
              "      border-bottom-color: var(--fill-color);\n",
              "    }\n",
              "    90% {\n",
              "      border-color: transparent;\n",
              "      border-bottom-color: var(--fill-color);\n",
              "    }\n",
              "  }\n",
              "</style>\n",
              "\n",
              "      <script>\n",
              "        async function quickchart(key) {\n",
              "          const quickchartButtonEl =\n",
              "            document.querySelector('#' + key + ' button');\n",
              "          quickchartButtonEl.disabled = true;  // To prevent multiple clicks.\n",
              "          quickchartButtonEl.classList.add('colab-df-spinner');\n",
              "          try {\n",
              "            const charts = await google.colab.kernel.invokeFunction(\n",
              "                'suggestCharts', [key], {});\n",
              "          } catch (error) {\n",
              "            console.error('Error during call to suggestCharts:', error);\n",
              "          }\n",
              "          quickchartButtonEl.classList.remove('colab-df-spinner');\n",
              "          quickchartButtonEl.classList.add('colab-df-quickchart-complete');\n",
              "        }\n",
              "        (() => {\n",
              "          let quickchartButtonEl =\n",
              "            document.querySelector('#df-6e2da91c-7406-45a2-9690-40497f37b971 button');\n",
              "          quickchartButtonEl.style.display =\n",
              "            google.colab.kernel.accessAllowed ? 'block' : 'none';\n",
              "        })();\n",
              "      </script>\n",
              "    </div>\n",
              "\n",
              "    </div>\n",
              "  </div>\n"
            ],
            "application/vnd.google.colaboratory.intrinsic+json": {
              "type": "dataframe",
              "variable_name": "df",
              "summary": "{\n  \"name\": \"df\",\n  \"rows\": 690,\n  \"fields\": [\n    {\n      \"column\": \"ID\",\n      \"properties\": {\n        \"dtype\": \"number\",\n        \"std\": 199,\n        \"min\": 1,\n        \"max\": 690,\n        \"num_unique_values\": 690,\n        \"samples\": [\n          287,\n          512,\n          258\n        ],\n        \"semantic_type\": \"\",\n        \"description\": \"\"\n      }\n    },\n    {\n      \"column\": \"Gender\",\n      \"properties\": {\n        \"dtype\": \"number\",\n        \"std\": 0,\n        \"min\": 0,\n        \"max\": 1,\n        \"num_unique_values\": 2,\n        \"samples\": [\n          0,\n          1\n        ],\n        \"semantic_type\": \"\",\n        \"description\": \"\"\n      }\n    },\n    {\n      \"column\": \"Age\",\n      \"properties\": {\n        \"dtype\": \"number\",\n        \"std\": 11.860244756156707,\n        \"min\": 13.75,\n        \"max\": 80.25,\n        \"num_unique_values\": 350,\n        \"samples\": [\n          41.75,\n          35.58\n        ],\n        \"semantic_type\": \"\",\n        \"description\": \"\"\n      }\n    },\n    {\n      \"column\": \"Debt\",\n      \"properties\": {\n        \"dtype\": \"number\",\n        \"std\": 4.978163248528541,\n        \"min\": 0.0,\n        \"max\": 28.0,\n        \"num_unique_values\": 215,\n        \"samples\": [\n          10.415,\n          3.29\n        ],\n        \"semantic_type\": \"\",\n        \"description\": \"\"\n      }\n    },\n    {\n      \"column\": \"Married\",\n      \"properties\": {\n        \"dtype\": \"number\",\n        \"std\": 0,\n        \"min\": 0,\n        \"max\": 1,\n        \"num_unique_values\": 2,\n        \"samples\": [\n          0,\n          1\n        ],\n        \"semantic_type\": \"\",\n        \"description\": \"\"\n      }\n    },\n    {\n      \"column\": \"BankCustomer\",\n      \"properties\": {\n        \"dtype\": \"number\",\n        \"std\": 0,\n        \"min\": 0,\n        \"max\": 1,\n        \"num_unique_values\": 2,\n        \"samples\": [\n          0,\n          1\n        ],\n        \"semantic_type\": \"\",\n        \"description\": \"\"\n      }\n    },\n    {\n      \"column\": \"Industry\",\n      \"properties\": {\n        \"dtype\": \"category\",\n        \"num_unique_values\": 14,\n        \"samples\": [\n          \"ConsumerDiscretionary\",\n          \"ConsumerStaples\"\n        ],\n        \"semantic_type\": \"\",\n        \"description\": \"\"\n      }\n    },\n    {\n      \"column\": \"Ethnicity\",\n      \"properties\": {\n        \"dtype\": \"category\",\n        \"num_unique_values\": 5,\n        \"samples\": [\n          \"Black\",\n          \"Other\"\n        ],\n        \"semantic_type\": \"\",\n        \"description\": \"\"\n      }\n    },\n    {\n      \"column\": \"YearsEmployed\",\n      \"properties\": {\n        \"dtype\": \"number\",\n        \"std\": 3.3465133592781333,\n        \"min\": 0.0,\n        \"max\": 28.5,\n        \"num_unique_values\": 132,\n        \"samples\": [\n          13.5,\n          2.375\n        ],\n        \"semantic_type\": \"\",\n        \"description\": \"\"\n      }\n    },\n    {\n      \"column\": \"PriorDefault\",\n      \"properties\": {\n        \"dtype\": \"number\",\n        \"std\": 0,\n        \"min\": 0,\n        \"max\": 1,\n        \"num_unique_values\": 2,\n        \"samples\": [\n          0,\n          1\n        ],\n        \"semantic_type\": \"\",\n        \"description\": \"\"\n      }\n    },\n    {\n      \"column\": \"Employed\",\n      \"properties\": {\n        \"dtype\": \"number\",\n        \"std\": 0,\n        \"min\": 0,\n        \"max\": 1,\n        \"num_unique_values\": 2,\n        \"samples\": [\n          0,\n          1\n        ],\n        \"semantic_type\": \"\",\n        \"description\": \"\"\n      }\n    },\n    {\n      \"column\": \"CreditScore\",\n      \"properties\": {\n        \"dtype\": \"number\",\n        \"std\": 4,\n        \"min\": 0,\n        \"max\": 67,\n        \"num_unique_values\": 23,\n        \"samples\": [\n          23,\n          9\n        ],\n        \"semantic_type\": \"\",\n        \"description\": \"\"\n      }\n    },\n    {\n      \"column\": \"DriversLicense\",\n      \"properties\": {\n        \"dtype\": \"number\",\n        \"std\": 0,\n        \"min\": 0,\n        \"max\": 1,\n        \"num_unique_values\": 2,\n        \"samples\": [\n          1,\n          0\n        ],\n        \"semantic_type\": \"\",\n        \"description\": \"\"\n      }\n    },\n    {\n      \"column\": \"Citizen\",\n      \"properties\": {\n        \"dtype\": \"category\",\n        \"num_unique_values\": 3,\n        \"samples\": [\n          \"ByBirth\",\n          \"ByOtherMeans\"\n        ],\n        \"semantic_type\": \"\",\n        \"description\": \"\"\n      }\n    },\n    {\n      \"column\": \"ZipCode\",\n      \"properties\": {\n        \"dtype\": \"number\",\n        \"std\": 173,\n        \"min\": 0,\n        \"max\": 2000,\n        \"num_unique_values\": 170,\n        \"samples\": [\n          263,\n          400\n        ],\n        \"semantic_type\": \"\",\n        \"description\": \"\"\n      }\n    },\n    {\n      \"column\": \"Income\",\n      \"properties\": {\n        \"dtype\": \"number\",\n        \"std\": 5210,\n        \"min\": 0,\n        \"max\": 100000,\n        \"num_unique_values\": 240,\n        \"samples\": [\n          100,\n          314\n        ],\n        \"semantic_type\": \"\",\n        \"description\": \"\"\n      }\n    },\n    {\n      \"column\": \"Approved\",\n      \"properties\": {\n        \"dtype\": \"number\",\n        \"std\": 0,\n        \"min\": 0,\n        \"max\": 1,\n        \"num_unique_values\": 2,\n        \"samples\": [\n          0,\n          1\n        ],\n        \"semantic_type\": \"\",\n        \"description\": \"\"\n      }\n    }\n  ]\n}"
            }
          },
          "metadata": {},
          "execution_count": 71
        }
      ]
    },
    {
      "cell_type": "code",
      "source": [
        "# APPROVAL COUNTS\n",
        "sns.countplot(x='Approved', data=df)\n",
        "plt.title('Approval Status Counts')\n",
        "plt.show()\n",
        "\n",
        "# AGE DISTRIBUTION\n",
        "df['Age'].hist(bins=20)\n",
        "plt.title('Age Distribution')\n",
        "plt.xlabel('Age')\n",
        "plt.ylabel('Count')\n",
        "plt.show()\n",
        "\n",
        "# INCOME DISTRIBUTION\n",
        "df['Income'].hist(bins=20)\n",
        "plt.title('Income Distribution')\n",
        "plt.xlabel('Income')\n",
        "plt.ylabel('Count')\n",
        "plt.show()\n",
        "\n",
        "# YEARSEMPLYOED DISTRIBUTION\n",
        "df['YearsEmployed'].hist(bins=20)\n",
        "plt.title('Years Employed Distribution')\n",
        "plt.xlabel('Years Employed')\n",
        "plt.ylabel('Count')\n",
        "plt.show()\n",
        "\n",
        "# CREDIT SCORE VS APPROVAL\n",
        "sns.boxplot(x='Approved', y='CreditScore', data=df)\n",
        "plt.title('Credit Score by Approval Status')\n",
        "plt.show()\n",
        "\n",
        "# GROUPED MEAN - WHO GETS APPROVED?\n",
        "grouped = df.groupby('Approved').mean(numeric_only=True)\n",
        "print(\"Averages by Approval Status:\\n\", grouped)\n"
      ],
      "metadata": {
        "colab": {
          "base_uri": "https://localhost:8080/",
          "height": 1000
        },
        "id": "bnXQbFDSwMJ9",
        "outputId": "1ba874f2-ccfc-49d8-d360-9a227f53236e"
      },
      "execution_count": null,
      "outputs": [
        {
          "output_type": "display_data",
          "data": {
            "text/plain": [
              "<Figure size 640x480 with 1 Axes>"
            ],
            "image/png": "[encoded data removed]"
          },
          "metadata": {}
        },
        {
          "output_type": "display_data",
          "data": {
            "text/plain": [
              "<Figure size 640x480 with 1 Axes>"
            ],
            "image/png": "[encoded data removed]"
          },
          "metadata": {}
        },
        {
          "output_type": "display_data",
          "data": {
            "text/plain": [
              "<Figure size 640x480 with 1 Axes>"
            ],
            "image/png": "[encoded data removed]"
          },
          "metadata": {}
        },
        {
          "output_type": "display_data",
          "data": {
            "text/plain": [
              "<Figure size 640x480 with 1 Axes>"
            ],
            "image/png": "[encoded data removed]"
          },
          "metadata": {}
        },
        {
          "output_type": "display_data",
          "data": {
            "text/plain": [
              "<Figure size 640x480 with 1 Axes>"
            ],
            "image/png": "[encoded data removed]"
          },
          "metadata": {}
        },
        {
          "output_type": "stream",
          "name": "stdout",
          "text": [
            "Averages by Approval Status:\n",
            "                   ID    Gender        Age      Debt   Married  BankCustomer  \\\n",
            "Approved                                                                      \n",
            "0         411.919060  0.707572  29.773029  3.839948  0.691906      0.691906   \n",
            "1         262.638436  0.680782  33.686221  5.904951  0.846906      0.853420   \n",
            "\n",
            "          YearsEmployed  PriorDefault  Employed  CreditScore  DriversLicense  \\\n",
            "Approved                                                                       \n",
            "0              1.257924      0.201044  0.224543     0.631854        0.443864   \n",
            "1              3.427899      0.925081  0.680782     4.605863        0.475570   \n",
            "\n",
            "             ZipCode       Income  \n",
            "Approved                           \n",
            "0         196.049608   198.605744  \n",
            "1         161.208469  2038.859935  \n"
          ]
        }
      ]
    },
    {
      "cell_type": "code",
      "source": [
        "# Get means of 'approved' applications for rules\n",
        "approved = df[df['Approved'] == 1]\n",
        "characteristics = {\n",
        "    'Income_min': approved['Income'].mean(),\n",
        "    'CreditScore_min': approved['CreditScore'].mean(),\n",
        "    'YearsEmployed_min': approved['YearsEmployed'].mean(),\n",
        "    'Debt_max': approved['Debt'].mean()\n",
        "}\n",
        "print(\"Typical Approved Applicant:\", characteristics)\n"
      ],
      "metadata": {
        "colab": {
          "base_uri": "https://localhost:8080/"
        },
        "id": "ylfz4ft1wj2R",
        "outputId": "d5303c57-0f36-4cfa-a186-1bdb2ac11cbe"
      },
      "execution_count": null,
      "outputs": [
        {
          "output_type": "stream",
          "name": "stdout",
          "text": [
            "Typical Approved Applicant: {'Income_min': np.float64(2038.85993485342), 'CreditScore_min': np.float64(4.605863192182411), 'YearsEmployed_min': np.float64(3.427899022801302), 'Debt_max': np.float64(5.9049511400651475)}\n"
          ]
        }
      ]
    },
    {
      "cell_type": "code",
      "source": [
        "def detailed_predict_approval(user, df):\n",
        "    # Compute statistics from approved applicants\n",
        "    approved = df[df['Approved'] == 1]\n",
        "    stats = {\n",
        "        'Age': approved['Age'].median(), # Use median for robustness\n",
        "        'CreditScore': approved['CreditScore'].median(),\n",
        "        'Income': approved['Income'].median(),\n",
        "        'Debt': approved['Debt'].quantile(0.75), # Upper quartile as max threshold\n",
        "        'YearsEmployed': approved['YearsEmployed'].median()\n",
        "    }\n",
        "    # Key factors to check\n",
        "    passed_checks = 0\n",
        "    total_checks = 6\n",
        "\n",
        "    if user['CreditScore'] >= stats['CreditScore']:  # Higher credit score preferred\n",
        "        passed_checks += 1\n",
        "    if user['Income'] >= stats['Income']:  # Adequate income\n",
        "        passed_checks += 1\n",
        "    if user['Debt'] <= stats['Debt']:  # Manageable debt\n",
        "        passed_checks += 1\n",
        "    if user['YearsEmployed'] >= stats['YearsEmployed']:  # Stable employment\n",
        "        passed_checks += 1\n",
        "    if user['Employed'] == 1:  # Should be employed\n",
        "        passed_checks += 1\n",
        "\n",
        "    # Optional: Check for prior defaults and marriage (add similar if available)\n",
        "    if user['PriorDefault'] == 0: # No prior defaults\n",
        "        passed_checks += 1\n",
        "    total_checks += 1\n",
        "\n",
        "    # Determine eligibility (e.g. 4 out of 5 checks passed)\n",
        "    if passed_checks >= total_checks - 1:\n",
        "        return \"Likely Approved\"\n",
        "    else:\n",
        "        return \"Likely Not Approved\"\n"
      ],
      "metadata": {
        "id": "7lr0n7J3wtnr"
      },
      "execution_count": null,
      "outputs": []
    },
    {
      "cell_type": "code",
      "source": [
        "# Example\n",
        "user = {'Income': 30000, 'CreditScore': 3, 'PriorDefault': 1, 'YearsEmployed': 5, 'Debt': 1}\n",
        "print(\"Prediction for user:\", predict_approval(user))\n"
      ],
      "metadata": {
        "colab": {
          "base_uri": "https://localhost:8080/"
        },
        "id": "BSShGd6iw0GY",
        "outputId": "71804f2c-d569-4c3d-8c93-71337a963ff6"
      },
      "execution_count": null,
      "outputs": [
        {
          "output_type": "stream",
          "name": "stdout",
          "text": [
            "Prediction for user: Likely Not Approved\n"
          ]
        }
      ]
    },
    {
      "cell_type": "code",
      "source": [
        "# Example: Use with your loaded and cleaned DataFrame (df)\n",
        "\n",
        "# Define example user input as dictionary\n",
        "example_user = {\n",
        "    'Age': 27,\n",
        "    'Gender': 1,         # 1=Male, 0=Female\n",
        "    'CreditScore': 3,\n",
        "    'Employed': 1,       # 1=Employed, 0=Unemployed\n",
        "    'Married': 1,        # 1=Married, 0=Single\n",
        "    'Income': 30000,\n",
        "    'Ethnicity': 2,      # Should match your encoding (e.g. 0,1,2,3)\n",
        "    'Debt': 3.2,\n",
        "    'YearsEmployed': 3,\n",
        "    'PriorDefault': 1,   # 1=Prior default, 0=None\n",
        "    'Citizen': 1         # Should match your encoding\n",
        "}\n",
        "\n",
        "# Predict using detailed rules\n",
        "result = detailed_predict_approval(example_user, df)\n",
        "print(\"Eligibility Result:\", result)\n"
      ],
      "metadata": {
        "colab": {
          "base_uri": "https://localhost:8080/"
        },
        "id": "vKoEtMluymNL",
        "outputId": "ba2ea7d0-7e4b-4ced-a1a4-7ae482224cc6"
      },
      "execution_count": null,
      "outputs": [
        {
          "output_type": "stream",
          "name": "stdout",
          "text": [
            "Eligibility Result: Likely Not Approved\n"
          ]
        }
      ]
    },
    {
      "cell_type": "code",
      "source": [
        "# Save the cleaned DataFrame with the ID column as the first field\n",
        "df.to_csv(\"credit_card_cleaned.csv\", index=False)\n"
      ],
      "metadata": {
        "id": "lJvFOoY03dGB"
      },
      "execution_count": null,
      "outputs": []
    },
    {
      "cell_type": "code",
      "source": [
        "# Use describe() for numeric columns to get aggregation\n",
        "agg_table = df.describe(include='all').T  # .T to transpose and match table style\n",
        "\n",
        "# Save as a separate CSV\n",
        "agg_table.to_csv(\"credit_card_aggregated_stats.csv\")\n"
      ],
      "metadata": {
        "id": "vkm6VL7Y66ZW"
      },
      "execution_count": null,
      "outputs": []
    },
    {
      "cell_type": "code",
      "source": [
        "from google.colab import files\n",
        "files.download(\"credit_card_cleaned.csv\")\n",
        "files.download(\"credit_card_aggregated_stats.csv\")\n"
      ],
      "metadata": {
        "colab": {
          "base_uri": "https://localhost:8080/",
          "height": 17
        },
        "id": "BrIn4fFE8Bz7",
        "outputId": "826d29cc-30a0-4ed9-885b-ed860285ea36"
      },
      "execution_count": null,
      "outputs": [
        {
          "output_type": "display_data",
          "data": {
            "text/plain": [
              "<IPython.core.display.Javascript object>"
            ],
            "application/javascript": [
              "\n",
              "    async function download(id, filename, size) {\n",
              "      if (!google.colab.kernel.accessAllowed) {\n",
              "        return;\n",
              "      }\n",
              "      const div = document.createElement('div');\n",
              "      const label = document.createElement('label');\n",
              "      label.textContent = `Downloading \"${filename}\": `;\n",
              "      div.appendChild(label);\n",
              "      const progress = document.createElement('progress');\n",
              "      progress.max = size;\n",
              "      div.appendChild(progress);\n",
              "      document.body.appendChild(div);\n",
              "\n",
              "      const buffers = [];\n",
              "      let downloaded = 0;\n",
              "\n",
              "      const channel = await google.colab.kernel.comms.open(id);\n",
              "      // Send a message to notify the kernel that we're ready.\n",
              "      channel.send({})\n",
              "\n",
              "      for await (const message of channel.messages) {\n",
              "        // Send a message to notify the kernel that we're ready.\n",
              "        channel.send({})\n",
              "        if (message.buffers) {\n",
              "          for (const buffer of message.buffers) {\n",
              "            buffers.push(buffer);\n",
              "            downloaded += buffer.byteLength;\n",
              "            progress.value = downloaded;\n",
              "          }\n",
              "        }\n",
              "      }\n",
              "      const blob = new Blob(buffers, {type: 'application/binary'});\n",
              "      const a = document.createElement('a');\n",
              "      a.href = window.URL.createObjectURL(blob);\n",
              "      a.download = filename;\n",
              "      div.appendChild(a);\n",
              "      a.click();\n",
              "      div.remove();\n",
              "    }\n",
              "  "
            ]
          },
          "metadata": {}
        },
        {
          "output_type": "display_data",
          "data": {
            "text/plain": [
              "<IPython.core.display.Javascript object>"
            ],
            "application/javascript": [
              "download(\"download_e7d997cc-30a9-4a64-b9b9-747b792911e0\", \"credit_card_cleaned.csv\", 48014)"
            ]
          },
          "metadata": {}
        },
        {
          "output_type": "display_data",
          "data": {
            "text/plain": [
              "<IPython.core.display.Javascript object>"
            ],
            "application/javascript": [
              "\n",
              "    async function download(id, filename, size) {\n",
              "      if (!google.colab.kernel.accessAllowed) {\n",
              "        return;\n",
              "      }\n",
              "      const div = document.createElement('div');\n",
              "      const label = document.createElement('label');\n",
              "      label.textContent = `Downloading \"${filename}\": `;\n",
              "      div.appendChild(label);\n",
              "      const progress = document.createElement('progress');\n",
              "      progress.max = size;\n",
              "      div.appendChild(progress);\n",
              "      document.body.appendChild(div);\n",
              "\n",
              "      const buffers = [];\n",
              "      let downloaded = 0;\n",
              "\n",
              "      const channel = await google.colab.kernel.comms.open(id);\n",
              "      // Send a message to notify the kernel that we're ready.\n",
              "      channel.send({})\n",
              "\n",
              "      for await (const message of channel.messages) {\n",
              "        // Send a message to notify the kernel that we're ready.\n",
              "        channel.send({})\n",
              "        if (message.buffers) {\n",
              "          for (const buffer of message.buffers) {\n",
              "            buffers.push(buffer);\n",
              "            downloaded += buffer.byteLength;\n",
              "            progress.value = downloaded;\n",
              "          }\n",
              "        }\n",
              "      }\n",
              "      const blob = new Blob(buffers, {type: 'application/binary'});\n",
              "      const a = document.createElement('a');\n",
              "      a.href = window.URL.createObjectURL(blob);\n",
              "      a.download = filename;\n",
              "      div.appendChild(a);\n",
              "      a.click();\n",
              "      div.remove();\n",
              "    }\n",
              "  "
            ]
          },
          "metadata": {}
        },
        {
          "output_type": "display_data",
          "data": {
            "text/plain": [
              "<IPython.core.display.Javascript object>"
            ],
            "application/javascript": [
              "download(\"download_5ec2e3fa-883c-4a21-8b3d-bf1483146b97\", \"credit_card_aggregated_stats.csv\", 1242)"
            ]
          },
          "metadata": {}
        }
      ]
    },
    {
      "cell_type": "code",
      "source": [],
      "metadata": {
        "id": "BEQV5tFs8JFN"
      },
      "execution_count": null,
      "outputs": []
    }
  ]
}